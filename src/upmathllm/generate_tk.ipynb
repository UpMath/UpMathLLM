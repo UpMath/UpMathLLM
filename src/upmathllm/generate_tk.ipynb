{
  "nbformat": 4,
  "nbformat_minor": 0,
  "metadata": {
    "colab": {
      "provenance": []
    },
    "kernelspec": {
      "name": "python3",
      "display_name": "Python 3"
    },
    "language_info": {
      "name": "python"
    }
  },
  "cells": [
    {
      "cell_type": "code",
      "execution_count": 21,
      "metadata": {
        "id": "DlAgMvXmk8O2"
      },
      "outputs": [],
      "source": [
        "import os\n",
        "import pandas as pd\n",
        "import requests\n",
        "import json\n",
        "from itertools import combinations, product\n",
        "from joblib import Parallel, delayed\n",
        "import time\n",
        "from typing import List, Dict, Any, Tuple\n",
        "import random\n",
        "from tqdm.auto import tqdm"
      ]
    },
    {
      "cell_type": "code",
      "source": [
        "OPENROUTER_API_KEY = \"your-api-key-here\"  # Replace with your actual API key\n",
        "OPENROUTER_BASE_URL = \"https://openrouter.ai/api/v1\"\n",
        "MODEL_NAME = \"qwen/qwen3-235b-a22b-thinking-2507\""
      ],
      "metadata": {
        "id": "i82rWMaOl37B"
      },
      "execution_count": 22,
      "outputs": []
    },
    {
      "cell_type": "code",
      "source": [
        "MAX_NUM_PROBLEMS = 2\n",
        "BLOOM_LEVELS = [\"จำ\", \"เข้าใจ\", \"นำไปใช้\", \"วิเคราะห์\", \"ประเมิน\", \"สร้างสรรค์\"]\n",
        "LEVELS = [\"ง่าย\", \"ปานกลาง\", \"ยาก\"]\n",
        "GRADE_LEVELS = [\"ม.4\", \"ม.5\", \"ม.6\"]\n",
        "TOPICS = [\"พีชคณิต\"]\n",
        "QUESTION_TYPES = [\n",
        "    \"multiple_choice\",\n",
        "    # \"short_answer\"\n",
        "    ]\n",
        "ADDITIONAL_REQUIREMENTS = \"โจทย์จำเป็นต้องมีคำตอบ และถ้าโจทย์เป็นแบบ multiple choice (ปรนัย) ต้องมีคำตอบหลอกจำนวน 3 ข้อ (ทั้งหมด หลอก + จริง มี 4 ข้อ) โดยมาจากการคำนวนที่ผิดพลาด\"\n",
        "\n",
        "# For parallel processing\n",
        "N_JOBS = 4  # Adjust based on your system and API rate limits\n",
        "BATCH_SIZE = N_JOBS * 2\n",
        "DELAY_BETWEEN_REQUESTS = 1  # seconds\n",
        "\n",
        "# ------------------------------------------------------------------------------\n",
        "\n",
        "# Generate Bloom level combinations (1-2 levels max by default, can be increased)\n",
        "BLOOM_COMBINATIONS = []\n",
        "for r in range(1, 4):  # 1 to 3 bloom levels per question\n",
        "    BLOOM_COMBINATIONS.extend(combinations(BLOOM_LEVELS, r))\n",
        "\n",
        "# Convert combinations to list of lists for easier handling\n",
        "BLOOM_COMBINATIONS = [list(combo) for combo in BLOOM_COMBINATIONS]\n",
        "\n",
        "NUM_PROBLEMS = list(range(1, MAX_NUM_PROBLEMS + 1))\n",
        "\n",
        "# Create all possible combinations of parameters\n",
        "all_combinations = list(product(\n",
        "    TOPICS,                   # topic\n",
        "    GRADE_LEVELS,             # grade level\n",
        "    QUESTION_TYPES,           # question type\n",
        "    LEVELS,                   # difficulty\n",
        "    BLOOM_COMBINATIONS,       # bloom levels\n",
        "    NUM_PROBLEMS,             # num problems\n",
        "))\n",
        "\n",
        "print(f\"Total possible combinations: {len(all_combinations)}\")\n",
        "print(f\"Bloom combinations: {len(BLOOM_COMBINATIONS)}\")\n",
        "print(f\"Sample combinations:\")\n",
        "for i, combo in enumerate(all_combinations[-5:]):\n",
        "    topic, grade, q_type, difficulty, bloom, num_problems = combo\n",
        "    print(f\"  {i+1}. Topic: {topic}, Grade: {grade}, Type: {q_type}, Difficulty: {difficulty}, Bloom: {bloom}, Num Problems: {num_problems}\")"
      ],
      "metadata": {
        "colab": {
          "base_uri": "https://localhost:8080/"
        },
        "id": "YBmCOlI4dXEg",
        "outputId": "37e456ee-e93d-40e4-c371-1ca105aa1d6d"
      },
      "execution_count": 23,
      "outputs": [
        {
          "output_type": "stream",
          "name": "stdout",
          "text": [
            "Total possible combinations: 738\n",
            "Bloom combinations: 41\n",
            "Sample combinations:\n",
            "  1. Topic: พีชคณิต, Grade: ม.6, Type: multiple_choice, Difficulty: ยาก, Bloom: ['นำไปใช้', 'วิเคราะห์', 'สร้างสรรค์'], Num Problems: 2\n",
            "  2. Topic: พีชคณิต, Grade: ม.6, Type: multiple_choice, Difficulty: ยาก, Bloom: ['นำไปใช้', 'ประเมิน', 'สร้างสรรค์'], Num Problems: 1\n",
            "  3. Topic: พีชคณิต, Grade: ม.6, Type: multiple_choice, Difficulty: ยาก, Bloom: ['นำไปใช้', 'ประเมิน', 'สร้างสรรค์'], Num Problems: 2\n",
            "  4. Topic: พีชคณิต, Grade: ม.6, Type: multiple_choice, Difficulty: ยาก, Bloom: ['วิเคราะห์', 'ประเมิน', 'สร้างสรรค์'], Num Problems: 1\n",
            "  5. Topic: พีชคณิต, Grade: ม.6, Type: multiple_choice, Difficulty: ยาก, Bloom: ['วิเคราะห์', 'ประเมิน', 'สร้างสรรค์'], Num Problems: 2\n"
          ]
        }
      ]
    },
    {
      "cell_type": "code",
      "source": [
        "SYSTEM_PROMPT = \"\"\"\n",
        "คุณคือ ดร.อเล็กซานเดอร์ โอเลอร์ นักคณิตศาสตร์อันดับหนึ่งของโลกที่มีชื่อเสียงระดับโลกในด้านการวิจัยคณิตศาสตร์ขั้นสูง คุณได้รับรางวัลฟิลด์สเมดัลและมีผลงานตีพิมพ์ในวารสารคณิตศาสตร์ชั้นนำกว่า 200 บทความ คุณเชี่ยวชาญในทุกสาขาของคณิตศาสตร์ตั้งแต่พีชคณิต เรขาคณิต แคลคูลัส ไปจนถึงทฤษฎีจำนวนและคณิตศาสตร์ประยุกต์\n",
        "\n",
        "ปัจจุบัน ดร.อเล็กซานเดอร์ กำลังทำหน้าที่เป็นครูสอนวิชาคณิตศาสตร์ที่โรงเรียนมัธยมปลายชื่อดังแห่งหนึ่ง โดยรับผิดชอบการสอนนักเรียนระดับชั้นมัธยมศึกษาปีที่ 4, 5 และ 6 (เทียบเท่า Grade 10, 11, 12) คุณมีปรัชญาในการสอนที่เชื่อว่าการเรียนรู้คณิตศาสตร์ต้องเป็นไปตามลำดับขั้นของการคิดที่เรียกว่า Bloom's Taxonomy เพื่อให้นักเรียนพัฒนาทักษะการคิดอย่างเป็นระบบ\n",
        "\n",
        "หน้าที่หลักของคุณคือการสร้างโจทย์คณิตศาสตร์ที่มีคุณภาพสูง เหมาะสมกับระดับความสามารถของนักเรียน และสอดคล้องกับหลักการของ Bloom's Taxonomy อย่างเข้มงวด\n",
        "\n",
        "## Bloom's Taxonomy ในการสอนคณิตศาสตร์\n",
        "\n",
        "### 1. จำ (Remember)\n",
        "**ความหมาย**: การจำและการเรียกคืนข้อมูล สูตร หรือขั้นตอนพื้นฐานที่ได้เรียนมาแล้ว\n",
        "**คำสำคัญ**: จำได้, ระบุ, รายการ, ตั้งชื่อ, เลือก\n",
        "\n",
        "### 2. เข้าใจ (Understand)\n",
        "**ความหมาย**: การเข้าใจความหมาย แนวคิด และสามารถอธิบายด้วยคำพูดของตนเองได้\n",
        "**คำสำคัญ**: อธิบาย, แปล, สรุป, เปรียบเทียบ, แสดงให้เห็น\n",
        "\n",
        "### 3. นำไปใช้ (Apply)\n",
        "**ความหมาย**: การนำความรู้ สูตร หรือขั้นตอนที่เรียนมาไปใช้แก้ปัญหาในสถานการณ์ใหม่\n",
        "**คำสำคัญ**: คำนวณ, แก้, ใช้, แสดง, ดำเนินการ\n",
        "\n",
        "### 4. วิเคราะห์ (Analyze)\n",
        "**ความหมาย**: การแยกแยะองค์ประกอบ วิเคราะห์ความสัมพันธ์ และเข้าใจโครงสร้างของปัญหา\n",
        "**คำสำคัญ**: แยกแยะ, เปรียบเทียบ, ตรวจสอบ, ทดสอบ, วิเคราะห์\n",
        "\n",
        "### 5. ประเมิน (Evaluate)\n",
        "**ความหมาย**: การตัดสิน ประเมินค่า ให้เหตุผล และแสดงความคิดเห็นโดยใช้เกณฑ์ที่กำหนด\n",
        "**คำสำคัญ**: ตัดสิน, ประเมิน, วิจารณ์, แสดงความคิดเห็น, ให้เหตุผล\n",
        "\n",
        "### 6. สร้างสรรค์ (Create)\n",
        "**ความหมาย**: การสร้างสรรค์สิ่งใหม่ ออกแบบ วางแผน หรือสร้างโจทย์ปัญหาขึ้นมาเอง\n",
        "**คำสำคัญ**: สร้าง, ออกแบบ, วางแผน, เสนอ, พัฒนา\n",
        "\n",
        "## ตัวอย่างโจทย์ตาม Bloom's Taxonomy\n",
        "\n",
        "### จำ (Remember)\n",
        "โจทย์: สูตรหาพื้นที่วงกลมคือข้อใด\n",
        "A) $ A = \\pi r^2 $  B) $ A = 2\\pi r $  C) $ A = \\pi d $  D) $ A = \\frac{1}{2}\\pi r^2 $\n",
        "\n",
        "### เข้าใจ (Understand)\n",
        "โจทย์: อธิบายความหมายของ $ \\frac{dy}{dx} = 3x^2 $ ในทางเรขาคณิต\n",
        "\n",
        "### นำไปใช้ (Apply)\n",
        "โจทย์: จงหาค่า $ x $ จากสมการ $ 2x + 5 = 13 $\n",
        "\n",
        "### วิเคราะห์ (Analyze)\n",
        "โจทย์: เปรียบเทียบพฤติกรรมของฟังก์ชัน $ f(x) = x^2 $ และ $ g(x) = x^3 $ เมื่อ $ x > 1 $\n",
        "\n",
        "### ประเมิน (Evaluate)\n",
        "โจทย์: นักเรียนคนหนึ่งอ้างว่า $ \\sqrt{a + b} = \\sqrt{a} + \\sqrt{b} $ เสมอ จงประเมินว่าข้อความนี้ถูกหรือผิด พร้อมให้เหตุผล\n",
        "\n",
        "### สร้างสรรค์ (Create)\n",
        "โจทย์: ออกแบบฟังก์ชันกำลังสองที่มีจุดยอดอยู่ที่ $ (2, -3) $ และผ่านจุด $ (0, 1) $\n",
        "\n",
        "## ตัวอย่างโจทย์แบบผสม 5 โจทย์\n",
        "\n",
        "### โจทย์ที่ 1 (เข้าใจ + นำไปใช้)\n",
        "หากฟังก์ชัน $ f(x) = 2x - 3 $ จงหาค่า $ f(5) $ และอธิบายความหมายของผลลัพธ์\n",
        "\n",
        "### โจทย์ที่ 2 (วิเคราะห์ + ประเมิน)\n",
        "เปรียบเทียบวิธีแก้สมการ $ x^2 - 5x + 6 = 0 $ ด้วยการแยกตัวประกอบและสูตรกำลังสอง แล้วประเมินว่าวิธีใดมีประสิทธิภาพมากกว่า\n",
        "\n",
        "### โจทย์ที่ 3 (นำไปใช้ + วิเคราะห์)\n",
        "ร้านค้าแห่งหนึ่งขายสินค้าในราคา $ 100x - x^2 $ บาท เมื่อขาย $ x $ ชิ้น จงหาจำนวนสินค้าที่ขายได้เงินสูงสุด\n",
        "\n",
        "### โจทย์ที่ 4 (เข้าใจ + สร้างสรรค์)\n",
        "จากกราฟ $ y = \\sin x $ จงสร้างฟังก์ชันใหม่ที่มีแอมพลิจูดเป็น 3 เท่า และอธิบายการเปลี่ยนแปลง\n",
        "\n",
        "### โจทย์ที่ 5 (วิเคราะห์ + ประเมิน + สร้างสรรค์)\n",
        "นักเรียนสองคนแก้โจทย์หาค่าสูงสุดของ $ f(x) = -x^2 + 4x + 1 $ ได้คำตอบต่างกัน คนหนึ่งได้ $ x = 2 $ อีกคนได้ $ x = -2 $ จงวิเคราะห์ว่าใครถูก ประเมินข้อผิดพลาด และสร้างวิธีตรวจสอบคำตอบ\n",
        "\n",
        "---\n",
        "\n",
        "## คำสั่งการทำงาน\n",
        "\n",
        "เมื่อได้รับโจทย์ให้สร้างข้อสอบคณิตศาสตร์ ให้ทำตามขั้นตอนดังนี้:\n",
        "\n",
        "### ขั้นตอนที่ 1: การคิดและวางแผน\n",
        "ในแท็ก `<think></think>` ให้ทำการ:\n",
        "1. **คิดโจทย์เป็นภาษาอังกฤษก่อน** - เพื่อให้ได้แนวคิดที่ชัดเจน\n",
        "2. **ทดลองหาคำตอบ** - ตรวจสอบว่าโจทย์สามารถแก้ได้จริง\n",
        "3. **หากแก้ไม่ได้ ให้เปลี่ยนโจทย์** - แล้วทดลองใหม่จนได้โจทย์ที่ดี\n",
        "4. **เมื่อได้โจทย์ที่สมบูรณ์แล้ว** - สร้างตัวเลือกคำตอบสำหรับ multiple choice (หากต้องการ)\n",
        "5. **ตรวจสอบความสอดคล้องกับ Bloom's taxonomy** ที่กำหนด\n",
        "\n",
        "### ขั้นตอนที่ 2: การเขียนผลลัพธ์\n",
        "หลังจาก `<think></think>` แล้ว ให้เขียนโจทย์ในรูปแบบ XML ตามตัวอย่างนี้:\n",
        "\n",
        "```xml\n",
        "<questions>\n",
        "  <question>\n",
        "    <text>โจทย์คณิตศาสตร์ที่มี KaTeX formatting เช่น $ 4x + 3 = 2x + 9 $</text>\n",
        "    <type>multiple_choice</type>\n",
        "    <options>\n",
        "      <option>$ ตัวเลือก1 $</option>\n",
        "      <option>$ ตัวเลือก2 $</option>\n",
        "      <option>$ ตัวเลือก3 $</option>\n",
        "      <option>$ ตัวเลือก4 $</option>\n",
        "    </options>\n",
        "    <correct_answer>$ คำตอบที่ถูก $</correct_answer>\n",
        "    <explanation>\n",
        "      ขั้นตอนที่ 1: อธิบายด้วย KaTeX เช่น $ 4x - 2x + 3 = 9 $\n",
        "      ขั้นตอนที่ 2: $ 2x + 3 = 9 $\n",
        "      ขั้นตอนที่ 3: $ 2x = 6 $\n",
        "      ขั้นตอนที่ 4: $ x = 3 $\n",
        "    </explanation>\n",
        "    <score>2</score>\n",
        "    <difficulty>ง่าย</difficulty>\n",
        "    <bloom_levels>\n",
        "      <level>เข้าใจ</level>\n",
        "      <level>วิเคราะห์</level>\n",
        "    </bloom_levels>\n",
        "  </question>\n",
        "\n",
        "  <question>\n",
        "    <text>จงหาค่า $ x $ ที่ทำให้ $ 3x - 7 = 2x + 5 $</text>\n",
        "    <type>short_answer</type>\n",
        "    <correct_answer>$ x = 12 $</correct_answer>\n",
        "    <explanation>\n",
        "      ขั้นตอนที่ 1: นำ $ 2x $ ไปยังข้างซ้าย และ $ 7 $ ไปยังข้างขวา\n",
        "      $ 3x - 2x = 5 + 7 $\n",
        "      ขั้นตอนที่ 2: คำนวณ\n",
        "      $ x = 12 $\n",
        "    </explanation>\n",
        "    <score>2</score>\n",
        "    <difficulty>ปานกลาง</difficulty>\n",
        "    <bloom_levels>\n",
        "      <level>เข้าใจ</level>\n",
        "    </bloom_levels>\n",
        "  </question>\n",
        "</questions>\n",
        "```\n",
        "\n",
        "## หมายเหตุสำคัญ\n",
        "\n",
        "### รูปแบบการเขียน:\n",
        "- **ใช้ KaTeX format** `$ ... $` สำหรับตัวเลข สูตร และนิพจน์คณิตศาสตร์ทั้งหมด\n",
        "- **ใช้คำไทยสำหรับ Bloom's level**: จำ, เข้าใจ, นำไปใช้, วิเคราะห์, ประเมิน, สร้างสรรค์\n",
        "- **สามารถมีหลายระดับ Bloom's**: `<bloom_levels><level>เข้าใจ</level><level>นำไปใช้</level></bloom_levels>`\n",
        "\n",
        "### ระดับความยาก:\n",
        "- **ง่าย**: โจทย์พื้นฐาน 1-2 ขั้นตอน (คะแนน 1-2)\n",
        "- **ปานกลาง**: โจทย์ที่ต้องใช้ความคิด 3-4 ขั้นตอน (คะแนน 3-4)\n",
        "- **ยาก**: โจทย์ซับซ้อน ต้องวิเคราะห์เชิงลึก 5+ ขั้นตอน (คะแนน 5+)\n",
        "\n",
        "### การให้คะแนน:\n",
        "- Score ควรสะท้อนระดับความยากและเวลาที่ใช้ในการแก้ปัญหา\n",
        "- โจทย์ที่ต้องใช้ Bloom's level สูงควรได้คะแนนมากกว่า\n",
        "\n",
        "คุณพร้อมที่จะสร้างโจทย์คณิตศาสตร์คุณภาพสูงตามที่ได้รับมอบหมายแล้วหรือไม่?\"\"\""
      ],
      "metadata": {
        "id": "CUSW5G24emim"
      },
      "execution_count": 24,
      "outputs": []
    },
    {
      "cell_type": "code",
      "source": [
        "def create_user_prompt(topic: str, grade_level: str, question_type: str, difficulty: str, bloom_levels: List[str], num_problems: int = 1, additional_requirements: str = ADDITIONAL_REQUIREMENTS) -> str:\n",
        "    \"\"\"\n",
        "    Create user prompt for generating math problems\n",
        "\n",
        "    Args:\n",
        "        topic: The math topic (e.g., \"พีชคณิต\")\n",
        "        grade_level: Grade level (e.g., \"ม.4\")\n",
        "        question_type: Type of question (e.g., \"multiple_choice\", \"short_answer\")\n",
        "        difficulty: Difficulty level (e.g., \"ง่าย\", \"ปานกลาง\", \"ยาก\")\n",
        "        bloom_levels: List of Bloom taxonomy levels\n",
        "        num_problems: Number of problems to generate\n",
        "        additional_requirements: Additional requirements for the problem\n",
        "\n",
        "    Returns:\n",
        "        Formatted user prompt string\n",
        "    \"\"\"\n",
        "    bloom_str = \", \".join(bloom_levels)\n",
        "\n",
        "    prompt = f\"\"\"จงสร้างโจทย์คณิตศาสตร์คุณภาพสูงโดยกำหนดให้\n",
        "1. หัวข้อ: {topic}\n",
        "2. สำหรับนักเรียน: {grade_level}\n",
        "3. รูปแบบ: {question_type}\n",
        "4. ความยาก: {difficulty}\n",
        "5. bloom level: {bloom_str}\n",
        "6. จำนวน: {num_problems} ข้อ\n",
        "7. เพิ่มเติม: {additional_requirements}\"\"\"\n",
        "\n",
        "    return prompt"
      ],
      "metadata": {
        "id": "wDIxNRtWjY9C"
      },
      "execution_count": 25,
      "outputs": []
    },
    {
      "cell_type": "code",
      "source": [
        "def test_prompt_generation():\n",
        "    \"\"\"Test the prompt generation function\"\"\"\n",
        "    sample_prompt = create_user_prompt(\n",
        "        topic=\"พีชคณิต\",\n",
        "        grade_level=\"ม.4\",\n",
        "        question_type=\"multiple_choice\",\n",
        "        difficulty=\"ยาก\",\n",
        "        bloom_levels=[\"เข้าใจ\", \"นำไปใช้\"],\n",
        "        num_problems=1\n",
        "    )\n",
        "    print(\"Sample generated prompt:\")\n",
        "    print(\"-\" * 50)\n",
        "    print(sample_prompt)\n",
        "    print(\"-\" * 50)\n",
        "\n",
        "test_prompt_generation()"
      ],
      "metadata": {
        "colab": {
          "base_uri": "https://localhost:8080/"
        },
        "id": "mfQNXGorlygH",
        "outputId": "3206a1d8-cd92-4769-8f50-34f43feaf9b7"
      },
      "execution_count": 26,
      "outputs": [
        {
          "output_type": "stream",
          "name": "stdout",
          "text": [
            "Sample generated prompt:\n",
            "--------------------------------------------------\n",
            "จงสร้างโจทย์คณิตศาสตร์คุณภาพสูงโดยกำหนดให้\n",
            "1. หัวข้อ: พีชคณิต\n",
            "2. สำหรับนักเรียน: ม.4\n",
            "3. รูปแบบ: multiple_choice\n",
            "4. ความยาก: ยาก\n",
            "5. bloom level: เข้าใจ, นำไปใช้\n",
            "6. จำนวน: 1 ข้อ\n",
            "7. เพิ่มเติม: โจทย์จำเป็นต้องมีคำตอบ และถ้าโจทย์เป็นแบบ multiple choice (ปรนัย) ต้องมีคำตอบหลอกจำนวน 3 ข้อ (ทั้งหมด หลอก + จริง มี 4 ข้อ) โดยมาจากการคำนวนที่ผิดพลาด\n",
            "--------------------------------------------------\n"
          ]
        }
      ]
    },
    {
      "cell_type": "code",
      "source": [
        "def call_openrouter_api(user_prompt: str, system_prompt: str, model: str = MODEL_NAME):\n",
        "    headers = {\n",
        "        \"Authorization\": f\"Bearer {OPENROUTER_API_KEY}\",\n",
        "        \"Content-Type\": \"application/json\"\n",
        "    }\n",
        "\n",
        "    data = json.dumps({\n",
        "        \"model\": model,\n",
        "        \"messages\": [\n",
        "            {\"role\": \"system\", \"content\": system_prompt},\n",
        "            {\"role\": \"user\", \"content\": user_prompt}\n",
        "        ],\n",
        "        # \"provider\": {\n",
        "        #     \"order\": [\"deepinfra/fp8\", \"cerebras\"]\n",
        "        # },\n",
        "        \"temperature\": 0.6,\n",
        "        \"top_p\": 0.95,\n",
        "        \"top_k\": 20,\n",
        "        \"max_tokens\": 10000\n",
        "    })\n",
        "\n",
        "    try:\n",
        "        response = requests.post(f\"{OPENROUTER_BASE_URL}/chat/completions\", headers=headers, data=data)\n",
        "\n",
        "        if response.status_code == 200:\n",
        "            response_json = response.json()\n",
        "            return {\n",
        "                \"success\": True,\n",
        "                \"error\": \"\",\n",
        "                \"content\": response_json[\"choices\"][0][\"message\"][\"content\"],\n",
        "                \"reasoning\": response_json[\"choices\"][0][\"message\"][\"reasoning\"]\n",
        "            }\n",
        "\n",
        "        return {\n",
        "            \"success\": False,\n",
        "            \"error\": f\"Request failed with status code: {response.status_code}\",\n",
        "            \"content\": \"\",\n",
        "            \"reasoning\": \"\"\n",
        "        }\n",
        "\n",
        "    except Exception as e:\n",
        "        return {\n",
        "            \"success\": False,\n",
        "            \"error\": str(e),\n",
        "            \"content\": \"\",\n",
        "            \"reasoning\": \"\"\n",
        "        }"
      ],
      "metadata": {
        "id": "irOCF5YDl3D3"
      },
      "execution_count": 27,
      "outputs": []
    },
    {
      "cell_type": "code",
      "source": [
        "def generate_problem(params: Tuple[str, str, str, str, List[str], int]) -> Dict[str, Any]:\n",
        "    topic, grade, q_type, difficulty, bloom, num_problems = params\n",
        "\n",
        "    time.sleep(random.uniform(0.5, 1.5))\n",
        "\n",
        "    user_prompt = create_user_prompt(\n",
        "        topic=topic,\n",
        "        grade_level=grade,\n",
        "        question_type=q_type,\n",
        "        difficulty=difficulty,\n",
        "        bloom_levels=bloom,\n",
        "        num_problems=num_problems\n",
        "    )\n",
        "\n",
        "    api_result = call_openrouter_api(user_prompt, SYSTEM_PROMPT)\n",
        "\n",
        "    result = {\n",
        "        \"topic\": topic,\n",
        "        \"grade\": grade,\n",
        "        \"question_type\": q_type,\n",
        "        \"difficulty\": difficulty,\n",
        "        \"bloom\": bloom,\n",
        "        \"num_problems\": num_problems,\n",
        "        \"user_prompt\": user_prompt,\n",
        "        \"success\": api_result.get(\"success\", False),\n",
        "        \"error\": api_result.get(\"error\", \"\"),\n",
        "        \"content\": api_result.get(\"content\", \"\"),\n",
        "        \"reasoning\": api_result.get(\"reasoning\", \"\")\n",
        "    }\n",
        "\n",
        "    return result"
      ],
      "metadata": {
        "id": "f52cb4vHAGSm"
      },
      "execution_count": 28,
      "outputs": []
    },
    {
      "cell_type": "code",
      "source": [
        "generate_problem(all_combinations[0])"
      ],
      "metadata": {
        "colab": {
          "base_uri": "https://localhost:8080/"
        },
        "id": "TOKh56ZUCBuW",
        "outputId": "65588bae-841a-4302-bc69-c172abdcb6d5"
      },
      "execution_count": 29,
      "outputs": [
        {
          "output_type": "execute_result",
          "data": {
            "text/plain": [
              "{'topic': 'พีชคณิต',\n",
              " 'grade': 'ม.4',\n",
              " 'question_type': 'multiple_choice',\n",
              " 'difficulty': 'ง่าย',\n",
              " 'bloom': ['จำ'],\n",
              " 'num_problems': 1,\n",
              " 'user_prompt': 'จงสร้างโจทย์คณิตศาสตร์คุณภาพสูงโดยกำหนดให้\\n1. หัวข้อ: พีชคณิต\\n2. สำหรับนักเรียน: ม.4\\n3. รูปแบบ: multiple_choice\\n4. ความยาก: ง่าย\\n5. bloom level: จำ\\n6. จำนวน: 1 ข้อ\\n7. เพิ่มเติม: โจทย์จำเป็นต้องมีคำตอบ และถ้าโจทย์เป็นแบบ multiple choice (ปรนัย) ต้องมีคำตอบหลอกจำนวน 3 ข้อ (ทั้งหมด หลอก + จริง มี 4 ข้อ) โดยมาจากการคำนวนที่ผิดพลาด',\n",
              " 'success': True,\n",
              " 'error': '',\n",
              " 'content': '```xml\\n<questions>\\n  <question>\\n    <text>สูตรการหาผลบวกของลำดับเลขคณิต $ n $ พจน์แรก คือข้อใด?</text>\\n    <type>multiple_choice</type>\\n    <options>\\n      <option>$ S_n = \\\\frac{n}{2} (2a + (n-1)d) $</option>\\n      <option>$ S_n = \\\\frac{n}{2} (a + nd) $</option>\\n      <option>$ S_n = \\\\frac{n}{2} (2a + nd) $</option>\\n      <option>$ S_n = n \\\\times (a + d) $</option>\\n    </options>\\n    <correct_answer>$ S_n = \\\\frac{n}{2} (2a + (n-1)d) $</correct_answer>\\n    <explanation>\\n      สูตรการหาผลบวกของลำดับเลขคณิต $ n $ พจน์แรก คือ $ S_n = \\\\frac{n}{2} (2a + (n-1)d) $ โดย $ a $ คือพจน์แรก และ $ d $ คือ common difference.\\n      <br>\\n      ข้อผิดพลาดในการคำนวณที่นำไปสู่ตัวเลือกอื่นๆ:\\n      <br>\\n      - ตัวเลือก B: ลืมค่า $ (n-1) $ ทำให้สูตรผิดพลาด.\\n      - ตัวเลือก C: ค่าในวงเล็บคือ $ 2a + nd $ แต่จริงๆ คือ $ 2a + (n-1)d $.\\n      - ตัวเลือก D: ไม่ถูกต้อง เนื่องจากไม่ใช่สูตรที่ถูกต้อง.\\n    </explanation>\\n    <score>2</score>\\n    <difficulty>ง่าย</difficulty>\\n    <bloom_levels>\\n      <level>จำ</level>\\n    </bloom_levels>\\n  </question>\\n</questions>\\n```',\n",
              " 'reasoning': \"เรากำลังสร้างโจทย์คณิตศาสตร์ในสาขาพีชคณิต สำหรับนักเรียนมัธยมศึกษาปีที่ 4 โดยโจทย์เป็นแบบ multiple choice ความยากง่าย และ Bloom's level จำ\\n\\nโจทย์จำ: นักเรียนต้องจำสูตรหรือขั้นตอนพื้นฐานที่ได้เรียนมาแล้ว\\n\\nตัวอย่างโจทย์จำ: โจทย์ที่ถามสูตรหรือขั้นตอนที่เป็นพื้นฐาน\\n\\nเพิ่มเติม: โจทย์ต้องมีคำตอบ และถ้าเป็น multiple choice ต้องมี 4 ตัวเลือก โดยมี 1 ข้อถูก และ 3 ข้อผิดที่มาจากการคำนวนผิดพลาด\\n\\nสมมติว่าเรายกตัวอย่างโจทย์เกี่ยวกับพีชคณิต เช่น สูตรการคูณในระบบจำนวนเต็ม หรือ การหาค่าของตัวแปรพื้นฐาน\\n\\nโจทย์: สูตรการคูณของจำนวนเต็มบวกคือข้อใด?\\n\\nแต่โจทย์จำแบบนี้อาจไม่เหมาะสม เพราะสูตรการคูณเป็นพื้นฐานทุกคนรู้ ดังนั้นเราอาจปรับให้เป็นโจทย์ที่ต้องการให้นักเรียนจำสูตรหรือค่าคงที่บางอย่าง\\n\\nอื่นๆ: โจทย์เกี่ยวกับการหาค่าของพหุนาม หรือ การแก้สมการพื้นฐาน\\n\\nสมมติว่าโจทย์เกี่ยวกับการหาค่าของพหุนามกำลังสองที่อยู่ในรูปแบบมาตรฐาน\\n\\nโจทย์: รูปแบบของพหุนามกำลังสองที่เปิด upwards และมีจุดสูงสุดคือข้อใด?\\n\\nA) \\\\( ax^2 + bx + c \\\\) เมื่อ \\\\( a > 0 \\\\)\\nB) \\\\( ax^2 + bx + c \\\\) เมื่อ \\\\( a < 0 \\\\)\\nC) \\\\( ax^2 + bx + c \\\\) เมื่อ \\\\( b > 0 \\\\)\\nD) \\\\( ax^2 + bx + c \\\\) เมื่อ \\\\( c > 0 \\\\)\\n\\nคำตอบ: B\\n\\nการคำนวนผิดพลาด: \\n- ข้อ A: ผิด เพราะเมื่อ a>0 พหุนามเปิด downwards จริงๆ คือข้อผิด 1\\n- ข้อ C: ผิด เพราะสัญลักษณ์ b ไม่เกี่ยว directly ด้วยว่าเปิดขึ้นหรือลง\\n- ข้อ D: ผิด เพราะค่า c ไม่เกี่ยว\\n\\nแต่โจทย์นี้เป็นแบบจำหรือไม่? นักเรียนต้องจำว่าเมื่อ a<0 แล้วเปิดขึ้นหรือลง?\\n\\nในความเป็นจริง เมื่อ a<0 พหุนามเปิดขึ้น และมีจุดสูงสุด แต่เมื่อ a>0 เปิดลง และมีจุดต่ำสุด\\n\\nดังนั้นโจทย์ที่ถูกคือ B\\n\\nแต่การเขียนโจทย์นี้เป็นแบบจำหรือไม่? นักเรียนต้องจำว่า a<0 หรือไม่\\n\\nอีกแบบ: โจทย์เกี่ยวกับสูตรการหารพหุนาม\\n\\nหรือโจทย์เกี่ยวกับสูตรการหาผลบวกของลำดับเลขคณิต\\n\\nสมมติว่าโจทย์เกี่ยวกับสูตรการหาผลบวกของลำดับเลขคณิต\\n\\nโจทย์: สูตรการหาผลบวก n พจน์แรกของลำดับเลขคณิตคือข้อใด?\\n\\nA) \\\\( S_n = \\\\frac{n}{2} (a_1 + a_n) \\\\)\\nB) \\\\( S_n = \\\\frac{n}{2} (a_1 + a_n) \\\\)  // ข้อผิดซ้ำ ต้องปรับ\\nC) \\\\( S_n = \\\\frac{n}{2} (a_1 + l) \\\\)  // ที่ l คือพจน์สุดท้าย ซึ่งเท่ากับ a_1 + (n-1)d\\nD) \\\\( S_n = n \\\\times a_1 + \\\\frac{n(n-1)}{2} d \\\\)\\n\\nคำตอบ: A และ C และ D ทั้งหมดถูกในรูปแบบต่างกัน แต่ข้อผิดคือ B ซ้ำ\\n\\nเราต้องการโจทย์ที่มีเพียงคำตอบเดียว\\n\\nเปลี่ยนโจทย์: สูตรการหาผลบวกของลำดับเลขคณิตที่มี首项 a และ common difference d คือข้อใด?\\n\\nA) \\\\( S_n = \\\\frac{n}{2} (2a + (n-1)d) \\\\)\\nB) \\\\( S_n = \\\\frac{n}{2} (a + (n-1)d) \\\\)\\nC) \\\\( S_n = \\\\frac{n}{2} (2a + nd) \\\\)\\nD) \\\\( S_n = n \\\\times (a + d) \\\\)\\n\\nคำตอบ: A\\n\\nการคำนวนผิดพลาด:\\n- B: ผิด เพราะไม่มีส่วนของ (n-1)\\n- C: ผิด เพราะในวงเล็บคือ 2a + nd แต่จริงๆ คือ 2a + (n-1)d\\n- D: ผิด เพราะไม่ถูกต้อง\\n\\nดังนั้นโจทย์นี้เหมาะสมกับ Bloom's level Remember และความยากง่าย\\n\\nสรุปโจทย์:\\n\\nโจทย์: สูตรการหาผลบวกของลำดับเลขคณิต n พจน์แรก คือข้อใด?\\n\\nตัวเลือก:\\nA) \\\\( S_n = \\\\frac{n}{2} (2a + (n-1)d) \\\\)\\nB) \\\\( S_n = \\\\frac{n}{2} (a + nd) \\\\)\\nC) \\\\( S_n = \\\\frac{n}{2} (2a + nd) \\\\)\\nD) \\\\( S_n = n \\\\times (a + d) \\\\)\\n\\nคำตอบ: A\\n\\nการอธิบาย: นักเรียนต้องจำสูตรการหาผลบวกของลำดับเลขคณิตที่ถูกต้อง\\n\\nคะแนน: 2 (ง่าย)\\n\\nBloom's level: จำ\\n\\nXML:\\n\"}"
            ]
          },
          "metadata": {},
          "execution_count": 29
        }
      ]
    },
    {
      "cell_type": "code",
      "source": [
        "all_results = []"
      ],
      "metadata": {
        "id": "qipWU-axCWoc"
      },
      "execution_count": 20,
      "outputs": []
    },
    {
      "cell_type": "code",
      "source": [
        "print(f\"Generating {len(combinations)} problems using {N_JOBS} parallel jobs...\")\n",
        "\n",
        "progress = tqdm(range(0, len(combinations[:20]), BATCH_SIZE), desc=\"Progress\")\n",
        "for i in progress:\n",
        "    batch = combinations[:20][i:i+BATCH_SIZE]\n",
        "\n",
        "    batch_results = Parallel(n_jobs=N_JOBS, verbose=0)(\n",
        "        delayed(generate_problem)(problem) for problem in batch\n",
        "    )\n",
        "\n",
        "    all_results.extend(batch_results)\n",
        "\n",
        "    time.sleep(DELAY_BETWEEN_REQUESTS)\n",
        "\n",
        "print(\"Done!\")"
      ],
      "metadata": {
        "id": "8u6OPx1XDRNV"
      },
      "execution_count": null,
      "outputs": []
    },
    {
      "cell_type": "code",
      "source": [
        "df = pd.DataFrame(all_results)\n",
        "\n",
        "timestamp = pd.Timestamp.now().strftime(\"%Y%m%d_%H%M%S\")\n",
        "\n",
        "df.to_csv(f\"problems_{timestamp}.csv\", index=False, encoding='utf-8-sig')\n",
        "df.to_parquet(f\"problems_{timestamp}.parquet\", index=False)"
      ],
      "metadata": {
        "id": "78eoHk6hFktK"
      },
      "execution_count": null,
      "outputs": []
    },
    {
      "cell_type": "code",
      "source": [],
      "metadata": {
        "id": "cy7BXhwQFq0Q"
      },
      "execution_count": null,
      "outputs": []
    }
  ]
}